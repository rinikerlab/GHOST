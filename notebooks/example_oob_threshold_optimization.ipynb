{
 "cells": [
  {
   "cell_type": "markdown",
   "source": [
    "### Optimize the decision threshold of the RF classifier exploiting the out-of-bag probabilities"
   ],
   "metadata": {
    "collapsed": false,
    "pycharm": {
     "name": "#%% md\n"
    }
   }
  },
  {
   "cell_type": "markdown",
   "source": [
    "Import the ghostml library"
   ],
   "metadata": {
    "collapsed": false,
    "pycharm": {
     "name": "#%% md\n"
    }
   }
  },
  {
   "cell_type": "code",
   "execution_count": null,
   "outputs": [],
   "source": [
    "import ghostml"
   ],
   "metadata": {
    "collapsed": false,
    "pycharm": {
     "name": "#%%\n"
    }
   }
  },
  {
   "cell_type": "markdown",
   "metadata": {
    "pycharm": {
     "name": "#%% md\n"
    }
   },
   "source": [
    "**Function to calculate classification metrics**"
   ]
  },
  {
   "cell_type": "code",
   "execution_count": 2,
   "metadata": {
    "pycharm": {
     "name": "#%%\n"
    }
   },
   "outputs": [],
   "source": [
    "from sklearn import metrics\n",
    "import numpy as np\n",
    "\n",
    "def calc_metrics(labels_test, test_probs, threshold = 0.5):\n",
    "    scores = [1 if x>=threshold else 0 for x in test_probs]\n",
    "    auc = metrics.roc_auc_score(labels_test, test_probs)\n",
    "    kappa = metrics.cohen_kappa_score(labels_test,scores)\n",
    "    confusion = metrics.confusion_matrix(labels_test,scores, labels=list(set(labels_test)))\n",
    "    print('thresh: %.2f, kappa: %.3f, AUC test-set: %.3f'%(threshold, kappa, auc))\n",
    "    print(confusion)\n",
    "    print(metrics.classification_report(labels_test,scores))\n",
    "    return "
   ]
  },
  {
   "cell_type": "markdown",
   "metadata": {
    "pycharm": {
     "name": "#%% md\n"
    }
   },
   "source": [
    "**Example**"
   ]
  },
  {
   "cell_type": "code",
   "execution_count": 3,
   "metadata": {
    "pycharm": {
     "name": "#%%\n"
    }
   },
   "outputs": [
    {
     "name": "stdout",
     "output_type": "stream",
     "text": [
      "thresh: 0.50, kappa: 0.202, AUC test-set: 0.829\n",
      "[[158   1]\n",
      " [ 35   6]]\n",
      "              precision    recall  f1-score   support\n",
      "\n",
      "           0       0.82      0.99      0.90       159\n",
      "           1       0.86      0.15      0.25        41\n",
      "\n",
      "    accuracy                           0.82       200\n",
      "   macro avg       0.84      0.57      0.57       200\n",
      "weighted avg       0.83      0.82      0.76       200\n",
      "\n"
     ]
    }
   ],
   "source": [
    "from sklearn.ensemble import RandomForestClassifier\n",
    "from sklearn.datasets import make_classification\n",
    "from sklearn.model_selection import train_test_split\n",
    "\n",
    "# Generate a binary imbalanced classification problem, with 80% zeros and 20% ones.\n",
    "X, y = make_classification(n_samples=1000, n_features=20,\n",
    "                           n_informative=14, n_redundant=0,\n",
    "                           random_state=0, shuffle=False, weights = [0.8, 0.2])\n",
    "\n",
    "# Train - test split\n",
    "X_train, X_test, y_train, y_test = train_test_split(X, y, test_size = 0.2, stratify = y, random_state=0)\n",
    "\n",
    "# Train a RF classifier\n",
    "cls = RandomForestClassifier(max_depth=6, oob_score=True)\n",
    "cls.fit(X_train, y_train)\n",
    "\n",
    "# Get prediction probabilities for the test set\n",
    "test_probs = cls.predict_proba(X_test)[:,1] \n",
    "\n",
    "# Print confusion matrix and classification metrics\n",
    "calc_metrics(y_test, test_probs, threshold = 0.5)"
   ]
  },
  {
   "cell_type": "markdown",
   "metadata": {
    "pycharm": {
     "name": "#%% md\n"
    }
   },
   "source": [
    "**Optimize the decision threshold:**"
   ]
  },
  {
   "cell_type": "markdown",
   "metadata": {
    "pycharm": {
     "name": "#%% md\n"
    }
   },
   "source": [
    "Use the Cohen's Kappa as optimization metric:"
   ]
  },
  {
   "cell_type": "code",
   "execution_count": 4,
   "metadata": {
    "pycharm": {
     "name": "#%%\n"
    }
   },
   "outputs": [
    {
     "name": "stdout",
     "output_type": "stream",
     "text": [
      "thresh: 0.30, kappa: 0.559, AUC test-set: 0.829\n",
      "[[144  15]\n",
      " [ 14  27]]\n",
      "              precision    recall  f1-score   support\n",
      "\n",
      "           0       0.91      0.91      0.91       159\n",
      "           1       0.64      0.66      0.65        41\n",
      "\n",
      "    accuracy                           0.85       200\n",
      "   macro avg       0.78      0.78      0.78       200\n",
      "weighted avg       0.86      0.85      0.86       200\n",
      "\n"
     ]
    }
   ],
   "source": [
    "# extract oob prediction probabilities from the trained RF model\n",
    "oob_probs = cls.oob_decision_function_\n",
    "oob_probs = [x[1] for x in oob_probs]\n",
    "\n",
    "# optmize the threshold \n",
    "thresholds = np.round(np.arange(0.05,0.55,0.05),2)\n",
    "threshold1 = ghostml.optimize_threshold_from_oob_predictions(y_train, oob_probs,\n",
    "                                                             thresholds=thresholds, ThOpt_metrics='mcc')\n",
    "\n",
    "# Print confusion matrix and classification metrics\n",
    "calc_metrics(y_test, test_probs, threshold = threshold1)"
   ]
  },
  {
   "cell_type": "code",
   "execution_count": null,
   "metadata": {
    "pycharm": {
     "name": "#%%\n"
    }
   },
   "outputs": [],
   "source": []
  }
 ],
 "metadata": {
  "kernelspec": {
   "display_name": "Python 3",
   "language": "python",
   "name": "python3"
  },
  "language_info": {
   "codemirror_mode": {
    "name": "ipython",
    "version": 3
   },
   "file_extension": ".py",
   "mimetype": "text/x-python",
   "name": "python",
   "nbconvert_exporter": "python",
   "pygments_lexer": "ipython3",
   "version": "3.6.8"
  }
 },
 "nbformat": 4,
 "nbformat_minor": 4
}